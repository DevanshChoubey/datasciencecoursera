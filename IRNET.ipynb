{
  "nbformat": 4,
  "nbformat_minor": 0,
  "metadata": {
    "colab": {
      "name": "IRNET",
      "provenance": [],
      "collapsed_sections": [],
      "toc_visible": true,
      "authorship_tag": "ABX9TyM5v6xmF7mb1Y90p/r1b8fd",
      "include_colab_link": true
    },
    "kernelspec": {
      "name": "python3",
      "display_name": "Python 3"
    },
    "accelerator": "GPU"
  },
  "cells": [
    {
      "cell_type": "markdown",
      "metadata": {
        "id": "view-in-github",
        "colab_type": "text"
      },
      "source": [
        "<a href=\"https://colab.research.google.com/github/devanshc13/datasciencecoursera/blob/master/IRNET.ipynb\" target=\"_parent\"><img src=\"https://colab.research.google.com/assets/colab-badge.svg\" alt=\"Open In Colab\"/></a>"
      ]
    },
    {
      "cell_type": "code",
      "metadata": {
        "id": "uKxXfjeNyw_s",
        "colab_type": "code",
        "outputId": "df204ba9-43bc-4f2c-a189-9b03cf5fb84f",
        "colab": {
          "base_uri": "https://localhost:8080/",
          "height": 286
        }
      },
      "source": [
        "!wget https://nlp.stanford.edu/data/wordvecs/glove.42B.300d.zip"
      ],
      "execution_count": 1,
      "outputs": [
        {
          "output_type": "stream",
          "text": [
            "--2020-01-29 07:52:35--  https://nlp.stanford.edu/data/wordvecs/glove.42B.300d.zip\n",
            "Resolving nlp.stanford.edu (nlp.stanford.edu)... 171.64.67.140\n",
            "Connecting to nlp.stanford.edu (nlp.stanford.edu)|171.64.67.140|:443... connected.\n",
            "HTTP request sent, awaiting response... 301 Moved Permanently\n",
            "Location: http://downloads.cs.stanford.edu/nlp/data/wordvecs/glove.42B.300d.zip [following]\n",
            "--2020-01-29 07:52:35--  http://downloads.cs.stanford.edu/nlp/data/wordvecs/glove.42B.300d.zip\n",
            "Resolving downloads.cs.stanford.edu (downloads.cs.stanford.edu)... 171.64.64.22\n",
            "Connecting to downloads.cs.stanford.edu (downloads.cs.stanford.edu)|171.64.64.22|:80... connected.\n",
            "HTTP request sent, awaiting response... 200 OK\n",
            "Length: 1877802108 (1.7G) [application/zip]\n",
            "Saving to: ‘glove.42B.300d.zip’\n",
            "\n",
            "glove.42B.300d.zip  100%[===================>]   1.75G  2.01MB/s    in 14m 32s \n",
            "\n",
            "2020-01-29 08:07:07 (2.05 MB/s) - ‘glove.42B.300d.zip’ saved [1877802108/1877802108]\n",
            "\n"
          ],
          "name": "stdout"
        }
      ]
    },
    {
      "cell_type": "code",
      "metadata": {
        "id": "yK5-aKsPy8-2",
        "colab_type": "code",
        "outputId": "d972baba-a177-4261-d9df-d67dffec8118",
        "colab": {
          "base_uri": "https://localhost:8080/",
          "height": 84
        }
      },
      "source": [
        "!git clone https://github.com/microsoft/IRNet"
      ],
      "execution_count": 2,
      "outputs": [
        {
          "output_type": "stream",
          "text": [
            "Cloning into 'IRNet'...\n",
            "remote: Enumerating objects: 88, done.\u001b[K\n",
            "Unpacking objects:   1% (1/88)   \rUnpacking objects:   2% (2/88)   \rUnpacking objects:   3% (3/88)   \rUnpacking objects:   4% (4/88)   \rUnpacking objects:   5% (5/88)   \rUnpacking objects:   6% (6/88)   \rUnpacking objects:   7% (7/88)   \rUnpacking objects:   9% (8/88)   \rUnpacking objects:  10% (9/88)   \rUnpacking objects:  11% (10/88)   \rUnpacking objects:  12% (11/88)   \rUnpacking objects:  13% (12/88)   \rUnpacking objects:  14% (13/88)   \rUnpacking objects:  15% (14/88)   \rUnpacking objects:  17% (15/88)   \rUnpacking objects:  18% (16/88)   \rUnpacking objects:  19% (17/88)   \rUnpacking objects:  20% (18/88)   \rUnpacking objects:  21% (19/88)   \rUnpacking objects:  22% (20/88)   \rUnpacking objects:  23% (21/88)   \rremote: Total 88 (delta 0), reused 0 (delta 0), pack-reused 88\u001b[K\n",
            "Unpacking objects:  25% (22/88)   \rUnpacking objects:  26% (23/88)   \rUnpacking objects:  27% (24/88)   \rUnpacking objects:  28% (25/88)   \rUnpacking objects:  29% (26/88)   \rUnpacking objects:  30% (27/88)   \rUnpacking objects:  31% (28/88)   \rUnpacking objects:  32% (29/88)   \rUnpacking objects:  34% (30/88)   \rUnpacking objects:  35% (31/88)   \rUnpacking objects:  36% (32/88)   \rUnpacking objects:  37% (33/88)   \rUnpacking objects:  38% (34/88)   \rUnpacking objects:  39% (35/88)   \rUnpacking objects:  40% (36/88)   \rUnpacking objects:  42% (37/88)   \rUnpacking objects:  43% (38/88)   \rUnpacking objects:  44% (39/88)   \rUnpacking objects:  45% (40/88)   \rUnpacking objects:  46% (41/88)   \rUnpacking objects:  47% (42/88)   \rUnpacking objects:  48% (43/88)   \rUnpacking objects:  50% (44/88)   \rUnpacking objects:  51% (45/88)   \rUnpacking objects:  52% (46/88)   \rUnpacking objects:  53% (47/88)   \rUnpacking objects:  54% (48/88)   \rUnpacking objects:  55% (49/88)   \rUnpacking objects:  56% (50/88)   \rUnpacking objects:  57% (51/88)   \rUnpacking objects:  59% (52/88)   \rUnpacking objects:  60% (53/88)   \rUnpacking objects:  61% (54/88)   \rUnpacking objects:  62% (55/88)   \rUnpacking objects:  63% (56/88)   \rUnpacking objects:  64% (57/88)   \rUnpacking objects:  65% (58/88)   \rUnpacking objects:  67% (59/88)   \rUnpacking objects:  68% (60/88)   \rUnpacking objects:  69% (61/88)   \rUnpacking objects:  70% (62/88)   \rUnpacking objects:  71% (63/88)   \rUnpacking objects:  72% (64/88)   \rUnpacking objects:  73% (65/88)   \rUnpacking objects:  75% (66/88)   \rUnpacking objects:  76% (67/88)   \rUnpacking objects:  77% (68/88)   \rUnpacking objects:  78% (69/88)   \rUnpacking objects:  79% (70/88)   \rUnpacking objects:  80% (71/88)   \rUnpacking objects:  81% (72/88)   \rUnpacking objects:  82% (73/88)   \rUnpacking objects:  84% (74/88)   \rUnpacking objects:  85% (75/88)   \rUnpacking objects:  86% (76/88)   \rUnpacking objects:  87% (77/88)   \rUnpacking objects:  88% (78/88)   \rUnpacking objects:  89% (79/88)   \rUnpacking objects:  90% (80/88)   \rUnpacking objects:  92% (81/88)   \rUnpacking objects:  93% (82/88)   \rUnpacking objects:  94% (83/88)   \rUnpacking objects:  95% (84/88)   \rUnpacking objects:  96% (85/88)   \rUnpacking objects:  97% (86/88)   \rUnpacking objects:  98% (87/88)   \rUnpacking objects: 100% (88/88)   \rUnpacking objects: 100% (88/88), done.\n"
          ],
          "name": "stdout"
        }
      ]
    },
    {
      "cell_type": "code",
      "metadata": {
        "id": "9HElitSMUszz",
        "colab_type": "code",
        "colab": {
          "base_uri": "https://localhost:8080/",
          "height": 185
        },
        "outputId": "da0cf408-53ff-48e1-b954-1dbc65dfe9a3"
      },
      "source": [
        "!unzip /content/data.zip -d /content/IRNet"
      ],
      "execution_count": 15,
      "outputs": [
        {
          "output_type": "stream",
          "text": [
            "Archive:  /content/data.zip\n",
            "  inflating: /content/IRNet/data/tables.json  \n",
            "   creating: /content/IRNet/__MACOSX/\n",
            "   creating: /content/IRNet/__MACOSX/data/\n",
            "  inflating: /content/IRNet/__MACOSX/data/._tables.json  \n",
            "  inflating: /content/IRNet/data/dev.json  \n",
            "  inflating: /content/IRNet/__MACOSX/data/._dev.json  \n",
            "  inflating: /content/IRNet/data/train.json  \n",
            "  inflating: /content/IRNet/__MACOSX/data/._train.json  \n",
            "  inflating: /content/IRNet/__MACOSX/._data  \n"
          ],
          "name": "stdout"
        }
      ]
    },
    {
      "cell_type": "code",
      "metadata": {
        "id": "Umb8ASsl3F9i",
        "colab_type": "code",
        "outputId": "165a2c5a-523a-44d9-a559-6695438c3b3e",
        "colab": {
          "base_uri": "https://localhost:8080/",
          "height": 272
        }
      },
      "source": [
        "!sh /content/IRNet/eval.sh"
      ],
      "execution_count": 22,
      "outputs": [
        {
          "output_type": "stream",
          "text": [
            "Namespace(action_embed_size=128, att_vec_size=300, batch_size=64, beam_size=5, clip_grad=5.0, col_embed_size=300, column_att='affine', column_pointer=True, cuda=True, dataset='/content/IRNet/data', decode_max_time_step=40, dropout=0.3, embed_size=300, epoch=50, glove_embed_path='/content/IRNet/data/glove.42B.300d.txt', hidden_size=300, load_model='/content/IRNet/saved_model/IRNet_pretrained.model', loss_epoch_threshold=50, lr=0.001, lr_scheduler=True, lr_scheduler_gammar=0.5, lstm='lstm', max_epoch=-1, model_name='rnn', no_query_vec_to_action_map=False, optimizer='Adam', query_vec_to_action_diff_map=False, readout='identity', save='NE', save_to='model', seed=90, sentence_features=True, sketch_loss_coefficient=1.0, toy=False, type_embed_size=128, word_dropout=0.2)\n",
            "Loading from datasets...\n",
            "Loading data from /content/IRNet/data/tables.json\n",
            "Loading data from /content/IRNet/data/train.json\n",
            "Loading data from /content/IRNet/data/dev.json\n",
            "Use Column Pointer:  True\n",
            "load pretrained model from /content/IRNet/saved_model/IRNet_pretrained.model\n",
            "Loading word embedding from /content/IRNet/data/glove.42B.300d.txt\n",
            "/usr/local/lib/python3.6/dist-packages/torch/nn/functional.py:1340: UserWarning: nn.functional.tanh is deprecated. Use torch.tanh instead.\n",
            "  warnings.warn(\"nn.functional.tanh is deprecated. Use torch.tanh instead.\")\n",
            "/usr/local/lib/python3.6/dist-packages/torch/nn/functional.py:1351: UserWarning: nn.functional.sigmoid is deprecated. Use torch.sigmoid instead.\n",
            "  warnings.warn(\"nn.functional.sigmoid is deprecated. Use torch.sigmoid instead.\")\n",
            "Sketch Acc: 0.777237, Acc: 0.499027\n",
            "1028 0\n"
          ],
          "name": "stdout"
        }
      ]
    },
    {
      "cell_type": "code",
      "metadata": {
        "id": "56nXuGTYeGyX",
        "colab_type": "code",
        "colab": {
          "base_uri": "https://localhost:8080/",
          "height": 128
        },
        "outputId": "4c3273d4-7723-4ee9-a00b-c37b089c3e90"
      },
      "source": [
        "#import sys\n",
        "#sys.path.append('/usr/local/lib/python3.6/site-packages')\n",
        "#!pip install pattern\n",
        "from /content/IRNet/src/rule/pattern import lemma\n",
        "from pattern.en import lemma\n",
        "import torch\n",
        "print('Torch', torch.__version__, 'CUDA', torch.version.cuda)\n",
        "print('Device:', torch.device('cuda:0'))"
      ],
      "execution_count": 73,
      "outputs": [
        {
          "output_type": "error",
          "ename": "SyntaxError",
          "evalue": "ignored",
          "traceback": [
            "\u001b[0;36m  File \u001b[0;32m\"<ipython-input-73-d9ebdeafa286>\"\u001b[0;36m, line \u001b[0;32m1\u001b[0m\n\u001b[0;31m    from /content/IRNet/src/rule/pattern import lemma\u001b[0m\n\u001b[0m         ^\u001b[0m\n\u001b[0;31mSyntaxError\u001b[0m\u001b[0;31m:\u001b[0m invalid syntax\n"
          ]
        }
      ]
    },
    {
      "cell_type": "code",
      "metadata": {
        "id": "6D7Mb2z9bvxy",
        "colab_type": "code",
        "colab": {
          "base_uri": "https://localhost:8080/",
          "height": 121
        },
        "outputId": "3a230acb-a8b6-4bdc-86bd-cfdc2e3f8413"
      },
      "source": [
        "from google.colab import drive\n",
        "drive.mount('/content/drive')"
      ],
      "execution_count": 23,
      "outputs": [
        {
          "output_type": "stream",
          "text": [
            "Go to this URL in a browser: https://accounts.google.com/o/oauth2/auth?client_id=947318989803-6bn6qk8qdgf4n4g3pfee6491hc0brc4i.apps.googleusercontent.com&redirect_uri=urn%3aietf%3awg%3aoauth%3a2.0%3aoob&response_type=code&scope=email%20https%3a%2f%2fwww.googleapis.com%2fauth%2fdocs.test%20https%3a%2f%2fwww.googleapis.com%2fauth%2fdrive%20https%3a%2f%2fwww.googleapis.com%2fauth%2fdrive.photos.readonly%20https%3a%2f%2fwww.googleapis.com%2fauth%2fpeopleapi.readonly\n",
            "\n",
            "Enter your authorization code:\n",
            "··········\n",
            "Mounted at /content/drive\n"
          ],
          "name": "stdout"
        }
      ]
    },
    {
      "cell_type": "code",
      "metadata": {
        "id": "GvSYBuBFQTIT",
        "colab_type": "code",
        "colab": {
          "base_uri": "https://localhost:8080/",
          "height": 34
        },
        "outputId": "a03dc3ee-caf1-4236-f84b-42111a45175b"
      },
      "source": [
        "!python /content/IRNet/sem2SQL.py --data_path /content/IRNet/data --input_path predict_lf.json --output_path U.json"
      ],
      "execution_count": 19,
      "outputs": [
        {
          "output_type": "stream",
          "text": [
            "1028 0\n"
          ],
          "name": "stdout"
        }
      ]
    },
    {
      "cell_type": "code",
      "metadata": {
        "id": "x5lsI_BURSDY",
        "colab_type": "code",
        "colab": {}
      },
      "source": [
        "from pattern3.en import lemma"
      ],
      "execution_count": 0,
      "outputs": []
    },
    {
      "cell_type": "code",
      "metadata": {
        "id": "AfisUmI5JHjQ",
        "colab_type": "code",
        "colab": {
          "base_uri": "https://localhost:8080/",
          "height": 693
        },
        "outputId": "e65d69a9-61ce-42ab-a7e9-f4baabfbe4dc"
      },
      "source": [
        "pip install pattern3"
      ],
      "execution_count": 123,
      "outputs": [
        {
          "output_type": "stream",
          "text": [
            "Processing /root/.cache/pip/wheels/5c/28/a0/1c9344224e87fcdd0efa74c75baaf707ac3f95211056da5889/pattern3-3.0.0-py2.py3-none-any.whl\n",
            "Requirement already satisfied: simplejson in /usr/local/lib/python3.6/dist-packages (from pattern3) (3.17.0)\n",
            "Requirement already satisfied: pdfminer.six in /usr/local/lib/python3.6/dist-packages (from pattern3) (20200124)\n",
            "Requirement already satisfied: docx in /usr/local/lib/python3.6/dist-packages (from pattern3) (0.2.4)\n",
            "Requirement already satisfied: beautifulsoup4 in /usr/local/lib/python3.6/dist-packages (from pattern3) (4.6.3)\n",
            "Requirement already satisfied: pdfminer3k in /usr/local/lib/python3.6/dist-packages (from pattern3) (1.3.1)\n",
            "Requirement already satisfied: cherrypy in /usr/local/lib/python3.6/dist-packages (from pattern3) (18.5.0)\n",
            "Requirement already satisfied: feedparser in /usr/local/lib/python3.6/dist-packages (from pattern3) (5.2.1)\n",
            "Requirement already satisfied: pycryptodome in /usr/local/lib/python3.6/dist-packages (from pdfminer.six->pattern3) (3.9.4)\n",
            "Requirement already satisfied: sortedcontainers in /usr/local/lib/python3.6/dist-packages (from pdfminer.six->pattern3) (2.1.0)\n",
            "Requirement already satisfied: chardet; python_version > \"3.0\" in /usr/local/lib/python3.6/dist-packages (from pdfminer.six->pattern3) (3.0.4)\n",
            "Requirement already satisfied: Pillow>=2.0 in /usr/local/lib/python3.6/dist-packages (from docx->pattern3) (6.2.2)\n",
            "Requirement already satisfied: lxml in /usr/local/lib/python3.6/dist-packages (from docx->pattern3) (4.2.6)\n",
            "Requirement already satisfied: pytest>=2.0 in /usr/local/lib/python3.6/dist-packages (from pdfminer3k->pattern3) (3.6.4)\n",
            "Requirement already satisfied: ply>=3.4 in /usr/local/lib/python3.6/dist-packages (from pdfminer3k->pattern3) (3.11)\n",
            "Requirement already satisfied: cheroot>=8.2.1 in /usr/local/lib/python3.6/dist-packages (from cherrypy->pattern3) (8.2.1)\n",
            "Requirement already satisfied: zc.lockfile in /usr/local/lib/python3.6/dist-packages (from cherrypy->pattern3) (2.0)\n",
            "Requirement already satisfied: jaraco.collections in /usr/local/lib/python3.6/dist-packages (from cherrypy->pattern3) (3.0.0)\n",
            "Requirement already satisfied: portend>=2.1.1 in /usr/local/lib/python3.6/dist-packages (from cherrypy->pattern3) (2.6)\n",
            "Requirement already satisfied: more-itertools in /usr/local/lib/python3.6/dist-packages (from cherrypy->pattern3) (8.0.2)\n",
            "Requirement already satisfied: pluggy<0.8,>=0.5 in /usr/local/lib/python3.6/dist-packages (from pytest>=2.0->pdfminer3k->pattern3) (0.7.1)\n",
            "Requirement already satisfied: py>=1.5.0 in /usr/local/lib/python3.6/dist-packages (from pytest>=2.0->pdfminer3k->pattern3) (1.8.1)\n",
            "Requirement already satisfied: attrs>=17.4.0 in /usr/local/lib/python3.6/dist-packages (from pytest>=2.0->pdfminer3k->pattern3) (19.3.0)\n",
            "Requirement already satisfied: setuptools in /usr/local/lib/python3.6/dist-packages (from pytest>=2.0->pdfminer3k->pattern3) (42.0.2)\n",
            "Requirement already satisfied: atomicwrites>=1.0 in /usr/local/lib/python3.6/dist-packages (from pytest>=2.0->pdfminer3k->pattern3) (1.3.0)\n",
            "Requirement already satisfied: six>=1.10.0 in /usr/local/lib/python3.6/dist-packages (from pytest>=2.0->pdfminer3k->pattern3) (1.12.0)\n",
            "Requirement already satisfied: jaraco.functools in /usr/local/lib/python3.6/dist-packages (from cheroot>=8.2.1->cherrypy->pattern3) (3.0.0)\n",
            "Requirement already satisfied: jaraco.classes in /usr/local/lib/python3.6/dist-packages (from jaraco.collections->cherrypy->pattern3) (3.1.0)\n",
            "Requirement already satisfied: jaraco.text in /usr/local/lib/python3.6/dist-packages (from jaraco.collections->cherrypy->pattern3) (3.2.0)\n",
            "Requirement already satisfied: tempora>=1.8 in /usr/local/lib/python3.6/dist-packages (from portend>=2.1.1->cherrypy->pattern3) (2.1.0)\n",
            "Requirement already satisfied: importlib-resources; python_version < \"3.7\" in /usr/local/lib/python3.6/dist-packages (from jaraco.text->jaraco.collections->cherrypy->pattern3) (1.0.2)\n",
            "Requirement already satisfied: pytz in /usr/local/lib/python3.6/dist-packages (from tempora>=1.8->portend>=2.1.1->cherrypy->pattern3) (2018.9)\n",
            "Installing collected packages: pattern3\n",
            "Successfully installed pattern3-3.0.0\n"
          ],
          "name": "stdout"
        },
        {
          "output_type": "display_data",
          "data": {
            "application/vnd.colab-display-data+json": {
              "pip_warning": {
                "packages": [
                  "pattern3"
                ]
              }
            }
          },
          "metadata": {
            "tags": []
          }
        }
      ]
    },
    {
      "cell_type": "code",
      "metadata": {
        "id": "AvDVheZnJyFU",
        "colab_type": "code",
        "colab": {
          "base_uri": "https://localhost:8080/",
          "height": 406
        },
        "outputId": "c7720beb-e490-4a99-cd27-9d1d6d0f179a"
      },
      "source": [
        "!vim \"/usr/local/lib/python3.6/dist-packages/pattern3/text/tree.py\""
      ],
      "execution_count": 11,
      "outputs": [
        {
          "output_type": "stream",
          "text": [
            "\u001b[?2004h\u001b7\u001b[?47h\u001b[?1h\u001b=\u001b[?2004h\u001b[1;24r\u001b[?12h\u001b[?12l\u001b[29m\u001b[m\u001b[H\u001b[2J\u001b[?25l\u001b[24;1H<ib/python3.6/dist-packages/pattern3/text/tree.py\"\r<dist-packages/pattern3/text/tree.py\" 1978L, 72204C\u001b[2;1H▽\u001b[6n\u001b[2;1H  \u001b[1;1H\u001b[>c\u001b]10;?\u0007\u001b]11;?\u0007\u001b[1;1H\u001b[34m#### PATTERN | EN | PARSE TREE ###########################################\r\n",
            "# Copyright (c) 2010 University of Antwerp, Belgium\r\n",
            "# Author: Tom De Smedt <tom@organisms.be>\r\n",
            "# License: BSD (see LICENSE.txt for details).\r\n",
            "# http://www.clips.ua.ac.be/pages/pattern\r\n",
            "\r\n",
            "##########################################################################\r\n",
            "# Text and Sentence objects to traverse words and chunks in parsed text.\r\n",
            "# from pattern.en import parsetree\r\n",
            "# for sentence in parsetree(\"The cat sat on the mat.\"):\r\n",
            "#     for chunk in sentence.chunks:\r\n",
            "#         for word in chunk.words:\r\n",
            "#             print(word.string, word.tag, word.lemma)\r\n",
            "\r\n",
            "# Terminology:\r\n",
            "# - part-of-speech: the role that a word plays in a sentence: noun (NN), verb (VV\u001b[17;1HB), adjective, ...\r\n",
            "# -    sentence: a unit of language, with a subject (e.g., \"the cat\") and a predd\u001b[19;1Hicate (\"jumped\").\r\n",
            "# -       token: a word in a sentence with a part-of-speech tag (e.g., \"jump/VB\"\"\u001b[21;1H or \"jump/NN\").\n",
            "# -        word: a string of characters that expresses a meaningful concept (e.gg\u001b[23;1H., \"cat\").\u001b[m\u001b[24;63H1,1\u001b[11CTop\u001b[1;1H\u001b[?25h\u001b[24;1H\u001b[?2004l\u001b[?1l\u001b>\u001b[2J\u001b[?47l\u001b8Vim: Caught deadly signal TERM\n",
            "\n",
            "Vim: Finished.\n",
            "\u001b[24;1H^C\n"
          ],
          "name": "stdout"
        }
      ]
    },
    {
      "cell_type": "code",
      "metadata": {
        "id": "GI1qfqIVLFEW",
        "colab_type": "code",
        "colab": {}
      },
      "source": [
        "!cp -r /content/IRNet \"/content/drive/My Drive/IRNet\""
      ],
      "execution_count": 0,
      "outputs": []
    },
    {
      "cell_type": "code",
      "metadata": {
        "id": "h0NSpa19cTnT",
        "colab_type": "code",
        "colab": {}
      },
      "source": [
        ""
      ],
      "execution_count": 0,
      "outputs": []
    }
  ]
}